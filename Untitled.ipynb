{
 "cells": [
  {
   "cell_type": "code",
   "execution_count": 1,
   "metadata": {
    "scrolled": true
   },
   "outputs": [
    {
     "name": "stdout",
     "output_type": "stream",
     "text": [
      "Collecting unrar\n",
      "  Downloading https://files.pythonhosted.org/packages/bc/cb/2e9dcc0632ea96c3618b47d30ec1d8bcb55e0f45137690c9f2dae4ece762/unrar-0.3.tar.gz\n",
      "Building wheels for collected packages: unrar\n",
      "  Running setup.py bdist_wheel for unrar ... \u001b[?25ldone\n",
      "\u001b[?25h  Stored in directory: /home/jet/.cache/pip/wheels/c7/a9/1a/c5a381df313452ec2a000c9eae2188a2963df5f2f940073a5f\n",
      "Successfully built unrar\n",
      "Installing collected packages: unrar\n",
      "Successfully installed unrar-0.3\n",
      "\u001b[33mYou are using pip version 9.0.1, however version 19.0.3 is available.\n",
      "You should consider upgrading via the 'pip install --upgrade pip' command.\u001b[0m\n"
     ]
    }
   ],
   "source": [
    "! pip install unrar"
   ]
  },
  {
   "cell_type": "code",
   "execution_count": 4,
   "metadata": {},
   "outputs": [
    {
     "name": "stdout",
     "output_type": "stream",
     "text": [
      "Collecting rarfile\n",
      "  Downloading https://files.pythonhosted.org/packages/de/a4/8b4abc72310da6fa53b6de8de1019e0516885d05369d6c91cba23476abe5/rarfile-3.0.tar.gz (110kB)\n",
      "\u001b[K    100% |████████████████████████████████| 112kB 3.7MB/s ta 0:00:01\n",
      "\u001b[?25hBuilding wheels for collected packages: rarfile\n",
      "  Running setup.py bdist_wheel for rarfile ... \u001b[?25ldone\n",
      "\u001b[?25h  Stored in directory: /home/jet/.cache/pip/wheels/dc/84/da/8aff50941f548db5384b076d5a6a6afea0cd12672e0326edc4\n",
      "Successfully built rarfile\n",
      "Installing collected packages: rarfile\n",
      "Successfully installed rarfile-3.0\n",
      "\u001b[33mYou are using pip version 9.0.1, however version 19.0.3 is available.\n",
      "You should consider upgrading via the 'pip install --upgrade pip' command.\u001b[0m\n"
     ]
    }
   ],
   "source": [
    "!pip install rarfile"
   ]
  },
  {
   "cell_type": "code",
   "execution_count": 11,
   "metadata": {},
   "outputs": [],
   "source": [
    "import rarfile \n",
    "openrar=rarfile.RarFile('data_t.rar')"
   ]
  },
  {
   "cell_type": "code",
   "execution_count": 12,
   "metadata": {},
   "outputs": [],
   "source": [
    "openrar.extractall('/jet/prs/workspace/Data')"
   ]
  },
  {
   "cell_type": "code",
   "execution_count": null,
   "metadata": {},
   "outputs": [],
   "source": []
  }
 ],
 "metadata": {
  "kernelspec": {
   "display_name": "Python 3",
   "language": "python",
   "name": "python3"
  },
  "language_info": {
   "codemirror_mode": {
    "name": "ipython",
    "version": 3
   },
   "file_extension": ".py",
   "mimetype": "text/x-python",
   "name": "python",
   "nbconvert_exporter": "python",
   "pygments_lexer": "ipython3",
   "version": "3.6.3"
  }
 },
 "nbformat": 4,
 "nbformat_minor": 2
}
