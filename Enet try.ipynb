{
 "cells": [
  {
   "cell_type": "code",
   "execution_count": 1,
   "metadata": {},
   "outputs": [
    {
     "name": "stderr",
     "output_type": "stream",
     "text": [
      "Using TensorFlow backend.\n"
     ]
    }
   ],
   "source": [
    "from keras.layers.advanced_activations import PReLU\n",
    "from keras.layers.convolutional import Conv2D, Conv2DTranspose, UpSampling2D, ZeroPadding2D\n",
    "from keras.layers.core import SpatialDropout2D, Permute, Activation, Reshape\n",
    "from keras.layers.merge import add, concatenate\n",
    "from keras.layers.normalization import BatchNormalization\n",
    "from keras.layers.pooling import MaxPooling2D\n",
    "from keras.engine.topology import Input\n",
    "from keras.models import Model"
   ]
  },
  {
   "cell_type": "code",
   "execution_count": 10,
   "metadata": {},
   "outputs": [],
   "source": [
    "inp = Input(shape=(256, 256, 3))\n",
    "conv = Conv2D(13, (3, 3), padding='same', strides=(2, 2))(inp)\n",
    "\n",
    "## How come max pooling does not rduce borders\n",
    "max_pool = MaxPooling2D(padding='valid')(inp)\n",
    "\n",
    "##\n",
    "merged = concatenate([conv, max_pool], axis=3)\n",
    "model = Model(inp, merged)\n"
   ]
  },
  {
   "cell_type": "code",
   "execution_count": 11,
   "metadata": {},
   "outputs": [
    {
     "data": {
      "text/plain": [
       "(None, 128, 128, 16)"
      ]
     },
     "execution_count": 11,
     "metadata": {},
     "output_type": "execute_result"
    }
   ],
   "source": [
    "model.output_shape"
   ]
  },
  {
   "cell_type": "code",
   "execution_count": 12,
   "metadata": {},
   "outputs": [],
   "source": [
    "\n",
    "enet = BatchNormalization(momentum=0.1)(merged)  # enet_unpooling uses momentum of 0.1, keras default is 0.99\n",
    "enet = PReLU(shared_axes=[1, 2])(enet)"
   ]
  },
  {
   "cell_type": "code",
   "execution_count": 17,
   "metadata": {},
   "outputs": [],
   "source": [
    "encoder = Conv2D(16, (2, 2),\n",
    "                 # padding='same',\n",
    "                 strides=(2, 2), use_bias=False)(enet)\n",
    "# Batch normalization + PReLU\n",
    "encoder = BatchNormalization(momentum=0.1)(encoder)  # enet uses momentum of 0.1, keras default is 0.99\n",
    "encoder = PReLU(shared_axes=[1, 2])(encoder)\n",
    "encoder = Conv2D(16, (3, 3), padding='same')(encoder)\n",
    "encoder = BatchNormalization(momentum=0.1)(encoder)  # enet uses momentum of 0.1, keras default is 0.99\n",
    "encoder = PReLU(shared_axes=[1, 2])(encoder)\n",
    "encoder = Conv2D(64, (1, 1), use_bias=False)(encoder)\n",
    "\n",
    "encoder = BatchNormalization(momentum=0.1)(encoder)  # enet uses momentum of 0.1, keras default is 0.99\n",
    "encoder = SpatialDropout2D(0.01)(encoder)"
   ]
  },
  {
   "cell_type": "code",
   "execution_count": 18,
   "metadata": {},
   "outputs": [
    {
     "data": {
      "text/plain": [
       "(None, 64, 64, 64)"
      ]
     },
     "execution_count": 18,
     "metadata": {},
     "output_type": "execute_result"
    }
   ],
   "source": [
    "model = Model(inp, encoder)\n",
    "model.output_shape"
   ]
  },
  {
   "cell_type": "code",
   "execution_count": null,
   "metadata": {},
   "outputs": [],
   "source": []
  },
  {
   "cell_type": "code",
   "execution_count": null,
   "metadata": {},
   "outputs": [],
   "source": []
  }
 ],
 "metadata": {
  "kernelspec": {
   "display_name": "Python 3",
   "language": "python",
   "name": "python3"
  },
  "language_info": {
   "codemirror_mode": {
    "name": "ipython",
    "version": 3
   },
   "file_extension": ".py",
   "mimetype": "text/x-python",
   "name": "python",
   "nbconvert_exporter": "python",
   "pygments_lexer": "ipython3",
   "version": "3.6.3"
  }
 },
 "nbformat": 4,
 "nbformat_minor": 2
}
